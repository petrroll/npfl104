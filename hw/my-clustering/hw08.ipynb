{
 "cells": [
  {
   "cell_type": "code",
   "execution_count": 35,
   "metadata": {},
   "outputs": [],
   "source": [
    "import numpy as np\n",
    "import pandas as pd\n",
    "\n",
    "import os\n",
    "np.random.seed(42)\n",
    "\n",
    "# Loads dataset & processes it:\n",
    "# - fills NA data\n",
    "# - processes categorical data so that categories from both train&test are known\n",
    "def load_dataset(dataset, drop_columns=None):\n",
    "    df_train = pd.read_csv(\"./2019-npfl104-shared/data/\"+dataset+\"/train.txt.gz\", header=None)\n",
    "    df_test = pd.read_csv(\"./2019-npfl104-shared/data/\"+dataset+\"/test.txt.gz\", header=None)\n",
    "\n",
    "    train_size = len(df_train)\n",
    "    df_tog = df_train.append(df_test)\n",
    "\n",
    "    # Convert to categorical\n",
    "    for col in df_tog.columns[np.where(df_tog.dtypes == 'object')]:\n",
    "        df_tog[col] = pd.Categorical(df_tog[col])\n",
    "\n",
    "        \n",
    "    # Explicitely drop specified columns\n",
    "    if drop_columns:\n",
    "        df_tog = df_tog.drop(drop_columns, axis=1)\n",
    "\n",
    "\n",
    "    df_train, df_test = df_tog[:train_size], df_tog[train_size:]\n",
    "    \n",
    "    df_train = df_train.fillna(df_train.mode().iloc[0])\n",
    "    df_test = df_test.fillna(df_test.mode().iloc[0])\n",
    "    \n",
    "    return df_train, df_test\n",
    "\n",
    "# Used to split dataframe to features & target (last column)\n",
    "def get_X(df):\n",
    "    return pd.get_dummies(df[df.columns[:-1]], dummy_na=True)\n",
    "def get_Y(df):\n",
    "    dfc = df[df.columns[-1]]\n",
    "    return dfc.cat.codes if dfc.dtype.name == \"category\" else dfc\n"
   ]
  },
  {
   "cell_type": "code",
   "execution_count": 36,
   "metadata": {},
   "outputs": [],
   "source": [
    "dftr, dfte = load_dataset(\"pamap-easy\")    "
   ]
  },
  {
   "cell_type": "code",
   "execution_count": 19,
   "metadata": {},
   "outputs": [
    {
     "name": "stdout",
     "output_type": "stream",
     "text": [
      "[[102.      33.3125]\n",
      " [133.      33.625 ]\n",
      " [ 87.      32.375 ]\n",
      " [ 82.      31.8125]\n",
      " [149.      30.9375]\n",
      " [100.      33.3125]\n",
      " [ 95.      32.5   ]\n",
      " [124.      32.625 ]]\n"
     ]
    }
   ],
   "source": [
    "k = 8\n",
    "x = get_X(dftr).values\n",
    "\n",
    "\n",
    "def init_centers():\n",
    "    centers = np.zeros((k, ) + x[0].shape)\n",
    "    for i in range(k):\n",
    "        random_i = np.random.choice(len(x) - 1, 1)\n",
    "        centers[i] = x[random_i]\n",
    "                \n",
    "    return centers\n",
    "    \n",
    "print(init_centers())"
   ]
  },
  {
   "cell_type": "code",
   "execution_count": 20,
   "metadata": {},
   "outputs": [],
   "source": [
    "def get_closest_center(centers, data, j):\n",
    "    closest = -1\n",
    "    closest_dist = 2 ** 31\n",
    "    for i in range(len(centers)):\n",
    "        dist = np.linalg.norm(data[j] - centers[i])\n",
    "        if (dist < closest_dist): \n",
    "            closest_dist = dist\n",
    "            closest = i\n",
    "    return closest\n",
    "\n",
    "\n",
    "def iteration(data, centers):\n",
    "    aggr = np.zeros((k, ) + data[0].shape)\n",
    "    aggr_n = np.zeros(k)\n",
    "    \n",
    "    for i in range(len(data)):\n",
    "        clst_cluster = get_closest_center(centers, x, i)\n",
    "    \n",
    "        aggr[clst_cluster] += x[i]\n",
    "        aggr_n[clst_cluster] += 1\n",
    "        \n",
    "    for i in range(len(aggr)):\n",
    "        aggr[i] /= aggr_n[i]\n",
    "\n",
    "    return aggr\n",
    "   \n"
   ]
  },
  {
   "cell_type": "code",
   "execution_count": 21,
   "metadata": {},
   "outputs": [
    {
     "data": {
      "text/plain": [
       "array([[123.81978482,  32.76843619],\n",
       "       [133.15526802,  32.74905653],\n",
       "       [ 85.04688763,  31.75290521],\n",
       "       [115.68898305,  33.20429025],\n",
       "       [146.83487085,  32.48653713],\n",
       "       [170.21771075,  31.23786736],\n",
       "       [ 95.12788345,  32.55857952],\n",
       "       [103.09825175,  32.85585664]])"
      ]
     },
     "execution_count": 21,
     "metadata": {},
     "output_type": "execute_result"
    }
   ],
   "source": [
    "centers = init_centers()\n",
    "for i in range(10):\n",
    "    centers = iteration(x, centers)\n",
    "    \n",
    "centers"
   ]
  },
  {
   "cell_type": "code",
   "execution_count": 22,
   "metadata": {},
   "outputs": [],
   "source": [
    "def predict(centers, data):\n",
    "    result = np.zeros(len(data))\n",
    "    for i in range(len(data)):\n",
    "        result[i] = get_closest_center(centers, data, i)\n",
    "        \n",
    "    return result\n",
    "        \n",
    "labels_myknn = predict(centers, x)\n",
    "    "
   ]
  },
  {
   "cell_type": "code",
   "execution_count": 23,
   "metadata": {},
   "outputs": [],
   "source": [
    "from sklearn import metrics\n",
    "from time import time\n"
   ]
  },
  {
   "cell_type": "code",
   "execution_count": 24,
   "metadata": {},
   "outputs": [],
   "source": [
    "class Object(object):\n",
    "    pass\n",
    "\n",
    "\n"
   ]
  },
  {
   "cell_type": "code",
   "execution_count": 25,
   "metadata": {},
   "outputs": [
    {
     "name": "stdout",
     "output_type": "stream",
     "text": [
      "init\t\ttime\tinertia\thomo\tcompl\tv-meas\tARI\tAMI\tsilhouette\n"
     ]
    },
    {
     "name": "stderr",
     "output_type": "stream",
     "text": [
      "/home/petrroll/anaconda3/lib/python3.7/site-packages/sklearn/metrics/cluster/supervised.py:732: FutureWarning: The behavior of AMI will change in version 0.22. To match the behavior of 'v_measure_score', AMI will use average_method='arithmetic' by default.\n",
      "  FutureWarning)\n"
     ]
    },
    {
     "name": "stdout",
     "output_type": "stream",
     "text": [
      "asdf     \t0.01s\t6\t0.482\t0.581\t0.527\t0.337\t0.481\t0.528\n"
     ]
    }
   ],
   "source": [
    "t0 = time()\n",
    "estimator = Object()\n",
    "estimator.inertia_ = 6\n",
    "estimator.labels_ = labels_myknn\n",
    "\n",
    "name=\"asdf\"\n",
    "data = get_X(dftr)\n",
    "labels = get_Y(dftr)\n",
    "sample_size=len(dftr)\n",
    "\n",
    "print('init\\t\\ttime\\tinertia\\thomo\\tcompl\\tv-meas\\tARI\\tAMI\\tsilhouette')\n",
    "print('%-9s\\t%.2fs\\t%i\\t%.3f\\t%.3f\\t%.3f\\t%.3f\\t%.3f\\t%.3f'\n",
    "          % (name, (time() - t0), estimator.inertia_,\n",
    "             metrics.homogeneity_score(labels, estimator.labels_),\n",
    "             metrics.completeness_score(labels, estimator.labels_),\n",
    "             metrics.v_measure_score(labels, estimator.labels_),\n",
    "             metrics.adjusted_rand_score(labels, estimator.labels_),\n",
    "             metrics.adjusted_mutual_info_score(labels,  estimator.labels_),\n",
    "             metrics.silhouette_score(data, estimator.labels_,\n",
    "                                      metric='euclidean',\n",
    "                                      sample_size=sample_size)))\n"
   ]
  },
  {
   "cell_type": "code",
   "execution_count": 44,
   "metadata": {},
   "outputs": [],
   "source": [
    "import numpy as np\n",
    "from models.model import Model\n",
    "\n",
    "class KMeansMy(Model):\n",
    "    '''\n",
    "    KMeans clustering model.\n",
    "    '''\n",
    "    def __init__(self, k, iters):\n",
    "        self.k = k\n",
    "        self.iters = iters\n",
    "\n",
    "        self.inertia_ = 25\n",
    "\n",
    "    def Build(self, inputs):\n",
    "        centers = self.__init_centers(inputs)\n",
    "        for _ in range(self.iters):\n",
    "            centers = self.__iteration(inputs, centers)\n",
    "        self.centers = centers\n",
    "\n",
    "\n",
    "    def __init_centers(self, inputs):\n",
    "        x = inputs\n",
    "        k = self.k\n",
    "\n",
    "        centers = np.zeros((k, ) + x[0].shape)\n",
    "        for i in range(k):\n",
    "            random_i = np.random.choice(len(x) - 1, 1)[0]\n",
    "            centers[i] = x[random_i]\n",
    "                \n",
    "        return centers\n",
    "\n",
    "    def __get_closest_center(self, centers, data, j):\n",
    "        closest = -1\n",
    "        closest_dist = 2 ** 31\n",
    "        for i in range(len(centers)):\n",
    "            dist = np.linalg.norm(data[j] - centers[i])\n",
    "            if (dist < closest_dist): \n",
    "                closest_dist = dist\n",
    "                closest = i\n",
    "        return closest\n",
    "\n",
    "\n",
    "    def __iteration(self, data, centers):\n",
    "        k = self.k\n",
    "\n",
    "        aggr = np.zeros((k, ) + data[0].shape)\n",
    "        aggr_n = np.zeros(k)\n",
    "\n",
    "        for i in range(len(data)):\n",
    "            clst_cluster = self.__get_closest_center(centers, data, i)\n",
    "\n",
    "            aggr[clst_cluster] += data[i]\n",
    "            aggr_n[clst_cluster] += 1\n",
    "\n",
    "        for i in range(len(aggr)):\n",
    "            aggr[i] /= aggr_n[i]\n",
    "\n",
    "        return aggr\n",
    "\n",
    "\n",
    "\n",
    "    def fit(self, data):\n",
    "        self.Build(data)\n",
    "        self.labels_ = self.Predict(data)\n",
    "\n",
    "    def Predict(self, input):\n",
    "        centers = self.centers\n",
    "        data = input\n",
    "\n",
    "        result = np.zeros(len(data))\n",
    "        for i in range(len(data)):\n",
    "            result[i] = self.__get_closest_center(centers, data, i)\n",
    "        \n",
    "        return result\n",
    "\n",
    "\n",
    "def bench_k_means(estimator, name, data):\n",
    "    t0 = time()\n",
    "    estimator.fit(data)\n",
    "    print('%-9s\\t%.2fs\\t%i\\t%.3f\\t%.3f\\t%.3f\\t%.3f\\t%.3f\\t%.3f'\n",
    "          % (name, (time() - t0), estimator.inertia_,\n",
    "             metrics.homogeneity_score(labels, estimator.labels_),\n",
    "             metrics.completeness_score(labels, estimator.labels_),\n",
    "             metrics.v_measure_score(labels, estimator.labels_),\n",
    "             metrics.adjusted_rand_score(labels, estimator.labels_),\n",
    "             metrics.adjusted_mutual_info_score(labels,  estimator.labels_),\n",
    "             metrics.silhouette_score(data, estimator.labels_,\n",
    "                                      metric='euclidean',\n",
    "                                      sample_size=sample_size)))\n"
   ]
  },
  {
   "cell_type": "code",
   "execution_count": 45,
   "metadata": {},
   "outputs": [
    {
     "name": "stdout",
     "output_type": "stream",
     "text": [
      "init\t\ttime\tinertia\thomo\tcompl\tv-meas\tARI\tAMI\tsilhouette\n"
     ]
    },
    {
     "name": "stderr",
     "output_type": "stream",
     "text": [
      "/home/petrroll/anaconda3/lib/python3.7/site-packages/sklearn/metrics/cluster/supervised.py:732: FutureWarning: The behavior of AMI will change in version 0.22. To match the behavior of 'v_measure_score', AMI will use average_method='arithmetic' by default.\n",
      "  FutureWarning)\n"
     ]
    },
    {
     "name": "stdout",
     "output_type": "stream",
     "text": [
      "asdf     \t11.90s\t25\t0.513\t0.576\t0.543\t0.390\t0.512\t0.503\n"
     ]
    },
    {
     "name": "stderr",
     "output_type": "stream",
     "text": [
      "/home/petrroll/anaconda3/lib/python3.7/site-packages/sklearn/metrics/cluster/supervised.py:732: FutureWarning: The behavior of AMI will change in version 0.22. To match the behavior of 'v_measure_score', AMI will use average_method='arithmetic' by default.\n",
      "  FutureWarning)\n"
     ]
    },
    {
     "name": "stdout",
     "output_type": "stream",
     "text": [
      "k-means++\t0.09s\t171580\t0.510\t0.561\t0.534\t0.357\t0.509\t0.542\n"
     ]
    },
    {
     "name": "stderr",
     "output_type": "stream",
     "text": [
      "/home/petrroll/anaconda3/lib/python3.7/site-packages/sklearn/metrics/cluster/supervised.py:732: FutureWarning: The behavior of AMI will change in version 0.22. To match the behavior of 'v_measure_score', AMI will use average_method='arithmetic' by default.\n",
      "  FutureWarning)\n"
     ]
    },
    {
     "name": "stdout",
     "output_type": "stream",
     "text": [
      "random   \t0.15s\t188862\t0.526\t0.596\t0.559\t0.405\t0.526\t0.542\n"
     ]
    }
   ],
   "source": [
    "from sklearn import metrics\n",
    "from time import time\n",
    "\n",
    "from sklearn.cluster import KMeans\n",
    "k = 10\n",
    "model = KMeansMy(k, 5)\n",
    "\n",
    "    \n",
    "labels = get_Y(dftr).values\n",
    "sample_size = len(dftr)\n",
    "\n",
    "print('init\\t\\ttime\\tinertia\\thomo\\tcompl\\tv-meas\\tARI\\tAMI\\tsilhouette')\n",
    "bench_k_means(model, \"asdf\", data = get_X(dftr).values)\n",
    "bench_k_means(KMeans(init='k-means++', n_clusters=k, n_init=2),\n",
    "              name=\"k-means++\", data=data)\n",
    "bench_k_means(KMeans(init='random', n_clusters=k, n_init=2),\n",
    "              name=\"random\", data=data)"
   ]
  },
  {
   "cell_type": "code",
   "execution_count": null,
   "metadata": {},
   "outputs": [],
   "source": []
  }
 ],
 "metadata": {
  "kernelspec": {
   "display_name": "Python 3",
   "language": "python",
   "name": "python3"
  },
  "language_info": {
   "codemirror_mode": {
    "name": "ipython",
    "version": 3
   },
   "file_extension": ".py",
   "mimetype": "text/x-python",
   "name": "python",
   "nbconvert_exporter": "python",
   "pygments_lexer": "ipython3",
   "version": "3.7.1"
  }
 },
 "nbformat": 4,
 "nbformat_minor": 2
}
