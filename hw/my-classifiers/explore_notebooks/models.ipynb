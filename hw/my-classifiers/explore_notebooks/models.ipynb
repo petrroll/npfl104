{
 "cells": [
  {
   "cell_type": "code",
   "execution_count": 3,
   "metadata": {},
   "outputs": [],
   "source": [
    "from models.knn import KNN\n",
    "from dta_loader import load_adult, load_synth_sep, load_synth_noise\n",
    "from validation_runner import prepare_data\n",
    "import pandas as pd\n",
    "import numpy as np"
   ]
  },
  {
   "cell_type": "code",
   "execution_count": 4,
   "metadata": {},
   "outputs": [],
   "source": [
    "train, test = load_adult()\n",
    "target_col = 'target'\n",
    "\n",
    "train_i, train_t = prepare_data(train, target_col) \n",
    "test_i, test_t = prepare_data(test, target_col) "
   ]
  },
  {
   "cell_type": "code",
   "execution_count": 370,
   "metadata": {},
   "outputs": [
    {
     "data": {
      "text/plain": [
       "array([-0.045028  ,  1.04235529, -0.33430357, -1.02692072, -0.11322344,\n",
       "       -0.04736563, -0.84428439, -0.19479368,  0.11844957])"
      ]
     },
     "execution_count": 370,
     "metadata": {},
     "output_type": "execute_result"
    }
   ],
   "source": [
    "inputs = train_i\n",
    "targets = train_t\n",
    "\n",
    "dim = inputs.shape[1]\n",
    "w = np.random.normal(loc = 0.0, scale = 0.5, size = dim+1)\n",
    "b = np.insert(inputs, 0, values=1, axis=1) \n",
    "\n",
    "w[1:10]\n",
    "    \n"
   ]
  },
  {
   "cell_type": "code",
   "execution_count": 373,
   "metadata": {},
   "outputs": [
    {
     "data": {
      "text/plain": [
       "array([[    1,    39, 77516,    13,  2174,     0,    40,     0,     0,\n",
       "            0,     0,     0,     0,     1,     0,     0,     0,     0,\n",
       "            0,     0,     0,     0,     0,     0,     1,     0,     0,\n",
       "            0,     0,     0,     0,     0,     0,     0,     0,     1,\n",
       "            0,     0,     1,     0,     0,     0,     0,     0,     0,\n",
       "            0,     0,     0,     0,     0,     0,     0,     0,     1,\n",
       "            0,     0,     0,     0,     0,     0,     0,     0,     1,\n",
       "            0,     1,     0,     0,     0,     0,     0,     0,     0,\n",
       "            0,     0,     0,     0,     0,     0,     0,     0,     0,\n",
       "            0,     0,     0,     0,     0,     0,     0,     0,     0,\n",
       "            0,     0,     0,     0,     0,     0,     0,     0,     0,\n",
       "            0,     0,     0,     0,     1,     0,     0],\n",
       "       [    1,    50, 83311,    13,     0,     0,    13,     0,     0,\n",
       "            0,     0,     0,     1,     0,     0,     0,     0,     0,\n",
       "            0,     0,     0,     0,     0,     0,     1,     0,     0,\n",
       "            0,     0,     0,     0,     0,     0,     1,     0,     0,\n",
       "            0,     0,     0,     0,     0,     1,     0,     0,     0,\n",
       "            0,     0,     0,     0,     0,     0,     0,     1,     0,\n",
       "            0,     0,     0,     0,     0,     0,     0,     0,     1,\n",
       "            0,     1,     0,     0,     0,     0,     0,     0,     0,\n",
       "            0,     0,     0,     0,     0,     0,     0,     0,     0,\n",
       "            0,     0,     0,     0,     0,     0,     0,     0,     0,\n",
       "            0,     0,     0,     0,     0,     0,     0,     0,     0,\n",
       "            0,     0,     0,     0,     1,     0,     0]])"
      ]
     },
     "execution_count": 373,
     "metadata": {},
     "output_type": "execute_result"
    }
   ],
   "source": [
    "b[0:2,]"
   ]
  },
  {
   "cell_type": "code",
   "execution_count": 374,
   "metadata": {},
   "outputs": [
    {
     "data": {
      "text/plain": [
       "(-6501083.526053046, -6501083.526053046)"
      ]
     },
     "execution_count": 374,
     "metadata": {},
     "output_type": "execute_result"
    }
   ],
   "source": [
    "i = 1\n",
    "\n",
    "result_num = np.dot(b[i], w)\n",
    "result = result_num > 0\n",
    "if result != targets[i]:\n",
    "    w = w - 0.01 * (w - b[i]) * (targets[i] - result)\n",
    "    \n",
    "(result_num, np.dot(b[i], w))"
   ]
  },
  {
   "cell_type": "code",
   "execution_count": 371,
   "metadata": {},
   "outputs": [],
   "source": [
    "for i in range(1, len(targets)):\n",
    "    result_num = np.dot(b[i], w)\n",
    "    result = result_num > 0\n",
    "    if result != targets[i]:\n",
    "        w = w - 0.01 * (w - b[i]) * (targets[i] - result)\n",
    "    \n"
   ]
  },
  {
   "cell_type": "code",
   "execution_count": 372,
   "metadata": {},
   "outputs": [
    {
     "data": {
      "text/plain": [
       "0.7811185160160928"
      ]
     },
     "execution_count": 372,
     "metadata": {},
     "output_type": "execute_result"
    }
   ],
   "source": [
    "succ = 0\n",
    "for i in range(1, len(targets)):\n",
    "    result_num = np.dot(b[i], w)\n",
    "    result = result_num > 0\n",
    "    if result == targets[i]:\n",
    "        succ += 1\n",
    "        \n",
    "succ / len(targets)"
   ]
  }
 ],
 "metadata": {
  "kernelspec": {
   "display_name": "Python 3",
   "language": "python",
   "name": "python3"
  },
  "language_info": {
   "codemirror_mode": {
    "name": "ipython",
    "version": 3
   },
   "file_extension": ".py",
   "mimetype": "text/x-python",
   "name": "python",
   "nbconvert_exporter": "python",
   "pygments_lexer": "ipython3",
   "version": "3.7.1"
  }
 },
 "nbformat": 4,
 "nbformat_minor": 2
}
