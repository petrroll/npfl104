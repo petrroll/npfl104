{
 "cells": [
  {
   "cell_type": "code",
   "execution_count": 2,
   "metadata": {},
   "outputs": [],
   "source": [
    "import pandas as pd\n",
    "import numpy as np"
   ]
  },
  {
   "cell_type": "code",
   "execution_count": 3,
   "metadata": {},
   "outputs": [],
   "source": [
    "def get_artif():\n",
    "    train = pd.read_csv('./artificial/artificial_2x_test.tsv', names=['x', 'target'], index_col=None, header=None, sep='\\t')\n",
    "    test = pd.read_csv('./artificial/artificial_2x_train.tsv', names=['x', 'target'], index_col=None, header=None, sep='\\t')\n",
    "\n",
    "    return (train, test)\n",
    "\n",
    "\n",
    "def get_prague():\n",
    "    names = ['area', 'construction', 'ownership',   'status', 'floor', 'equip', 'cellar',     'balcony', 'target', 'nth']\n",
    "    train = pd.read_csv('./pragueestateprices/pragueestateprices_train.tsv', index_col=None,     names=names, header=None, sep='\\t')\n",
    "    test = pd.read_csv('./pragueestateprices/pragueestateprices_test.tsv', index_col=None,  names=names, header=None, sep='\\t')\n",
    "\n",
    "\n",
    "    train_size = len(train)\n",
    "    tog = train.append(test)\n",
    "\n",
    "    for col in tog.columns[np.where(tog.dtypes ==   'object')]:\n",
    "        tog[col] = pd.Categorical(tog[col])\n",
    "\n",
    "    tog = tog.drop('nth', axis=1)\n",
    "\n",
    "    train, test = (tog[:train_size], tog[train_size:])\n",
    "\n",
    "    return (train, test)\n",
    "\n",
    "def get_X(df):\n",
    "    return pd.get_dummies(df[df.columns[:-1]])\n",
    "\n",
    "def get_Y(df):\n",
    "    return df[df.columns[-1]]\n"
   ]
  },
  {
   "cell_type": "code",
   "execution_count": 6,
   "metadata": {},
   "outputs": [],
   "source": [
    "from sklearn.linear_model import ARDRegression\n",
    "from sklearn.linear_model import HuberRegressor\n",
    "from sklearn.linear_model import LinearRegression\n",
    "from sklearn.neighbors import KNeighborsRegressor\n",
    "from sklearn.tree import DecisionTreeRegressor\n",
    "from sklearn.svm import SVR"
   ]
  },
  {
   "cell_type": "code",
   "execution_count": 69,
   "metadata": {},
   "outputs": [],
   "source": [
    "def create_models():\n",
    "    return [\n",
    "        (ARDRegression(n_iter = 10000), \"ARD\"),\n",
    "        (HuberRegressor(), \"Huber\"),\n",
    "        (LinearRegression(normalize=False), \"LR\"),\n",
    "        (KNeighborsRegressor(n_neighbors=5), \"KNN\"),\n",
    "        (DecisionTreeRegressor(max_depth=10, min_samples_split=5,min_samples_leaf=3), \"Tree\"),\n",
    "        #SVR()\n",
    "    ]\n",
    "\n",
    "models = create_models()"
   ]
  },
  {
   "cell_type": "code",
   "execution_count": 70,
   "metadata": {},
   "outputs": [
    {
     "name": "stdout",
     "output_type": "stream",
     "text": [
      "Prague:\n",
      "ARD\tMSE: 3265917221772.445\t sqrt(MSE): 1807184.888652084\t R2: -0.001732387976441041\n",
      "Huber\tMSE: 1620268027037.4487\t sqrt(MSE): 1272897.4927453697\t R2: 0.5030263017489336\n",
      "LR\tMSE: 2537172101439.544\t sqrt(MSE): 1592850.307291788\t R2: 0.2217906042018708\n",
      "KNN\tMSE: 1312607748183.019\t sqrt(MSE): 1145690.9479362308\t R2: 0.597392828790022\n",
      "Tree\tMSE: 1523452479824.5696\t sqrt(MSE): 1234282.171881523\t R2: 0.532721870471943\n",
      "Artif:\n",
      "ARD\tMSE: 0.973830503588607\t sqrt(MSE): 0.9868285076894602\t R2: 0.9997023842872007\n",
      "Huber\tMSE: 1.0085414933912258\t sqrt(MSE): 1.0042616657979262\t R2: 0.999691776141395\n",
      "LR\tMSE: 0.973752806885902\t sqrt(MSE): 0.9867891400324094\t R2: 0.9997024080323591\n",
      "KNN\tMSE: 18.89289600000001\t sqrt(MSE): 4.346595909444541\t R2: 0.9942260766230236\n",
      "Tree\tMSE: 29.554829333333192\t sqrt(MSE): 5.436435351711008\t R2: 0.990967646252312\n"
     ]
    }
   ],
   "source": [
    "def R2ToMSE(r2, df_test):\n",
    "    score = (1-r2)\n",
    "    score *= ((get_Y(df_test) - get_Y(df_test).mean()) ** 2).sum()\n",
    "    \n",
    "    return score/len(df_test)\n",
    "\n",
    "def report(name, mse, r2):\n",
    "    print(name + \"\\t\" + \"MSE: \" + str(mse) + \"\\t sqrt(MSE): \" + str(mse ** (1/2)) + \"\\t R2: \" + str(r2))\n",
    "\n",
    "\n",
    "def eval_dataset(data):\n",
    "    df_train, df_test = data\n",
    "    \n",
    "    for (m, name) in create_models():\n",
    "        m = m.fit(get_X(df_train), get_Y(df_train))\n",
    "        r2 = m.score(get_X(df_test), get_Y(df_test))\n",
    "    \n",
    "        report(name,R2ToMSE(r2, df_test), r2)\n",
    "        \n",
    "print(\"Prague:\")\n",
    "eval_dataset(get_prague())\n",
    "print(\"Artif:\")\n",
    "eval_dataset(get_artif())\n",
    "\n"
   ]
  },
  {
   "cell_type": "code",
   "execution_count": null,
   "metadata": {},
   "outputs": [],
   "source": []
  }
 ],
 "metadata": {
  "kernelspec": {
   "display_name": "Python 3",
   "language": "python",
   "name": "python3"
  },
  "language_info": {
   "codemirror_mode": {
    "name": "ipython",
    "version": 3
   },
   "file_extension": ".py",
   "mimetype": "text/x-python",
   "name": "python",
   "nbconvert_exporter": "python",
   "pygments_lexer": "ipython3",
   "version": "3.7.1"
  }
 },
 "nbformat": 4,
 "nbformat_minor": 2
}
