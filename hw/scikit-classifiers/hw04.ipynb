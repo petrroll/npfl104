{
 "cells": [
  {
   "cell_type": "code",
   "execution_count": 1,
   "metadata": {},
   "outputs": [
    {
     "name": "stdout",
     "output_type": "stream",
     "text": [
      "The scikit-learn version is 0.20.1.\n"
     ]
    }
   ],
   "source": [
    "import numpy as np\n",
    "import pandas as pd\n",
    "\n",
    "import matplotlib.pyplot as plt\n",
    "from matplotlib.colors import ListedColormap\n",
    "\n",
    "from sklearn.model_selection import train_test_split\n",
    "from sklearn.preprocessing import StandardScaler\n",
    "from sklearn.datasets import make_moons, make_circles, make_classification\n",
    "from sklearn.neural_network import MLPClassifier\n",
    "from sklearn.neighbors import KNeighborsClassifier\n",
    "from sklearn.svm import SVC\n",
    "from sklearn.gaussian_process import GaussianProcessClassifier\n",
    "from sklearn.gaussian_process.kernels import RBF\n",
    "from sklearn.tree import DecisionTreeClassifier\n",
    "from sklearn.ensemble import RandomForestClassifier, AdaBoostClassifier\n",
    "from sklearn.naive_bayes import GaussianNB\n",
    "from sklearn.discriminant_analysis import QuadraticDiscriminantAnalysis\n",
    "\n",
    "import sklearn\n",
    "print('The scikit-learn version is {}.'.format(sklearn.__version__))"
   ]
  },
  {
   "cell_type": "code",
   "execution_count": 6,
   "metadata": {},
   "outputs": [],
   "source": [
    "dataset = \"militarized-interstate-disputes\"\n",
    "\n",
    "def load_dataset(dataset):\n",
    "    df_train = pd.read_csv(\"./\"+dataset+\"/train.txt.gz\", header=None)\n",
    "    df_test = pd.read_csv(\"./\"+dataset+\"/test.txt.gz\", header=None)\n",
    "\n",
    "    train_size = len(df_train)\n",
    "    df_tog = df_train.append(df_test)\n",
    "\n",
    "    for col in df_tog.columns[np.where(df_tog.dtypes == 'object')]:\n",
    "        df_tog[col] = pd.Categorical(df_tog[col])\n",
    "        \n",
    "\n",
    "    df_train, df_test = df_tog[:train_size], df_tog[train_size:]\n",
    "    \n",
    "    df_train = df_train.fillna(df_train.mode().iloc[0])\n",
    "    df_test = df_test.fillna(df_test.mode().iloc[0])\n",
    "    \n",
    "    return df_train, df_test\n",
    "\n",
    "df_train, df_test = load_dataset(dataset)"
   ]
  },
  {
   "cell_type": "code",
   "execution_count": 14,
   "metadata": {},
   "outputs": [],
   "source": [
    "def create_classifiers():\n",
    "    return [\n",
    "        (KNeighborsClassifier(3), \"KNeighborsClassifier\", \"k=3\"),\n",
    "        #(SVC(kernel=\"linear\", C=0.025), \"SVC\", \"kernel=\\\"linear\\\", C=0.025\"),\n",
    "        #SVC(gamma=2, C=1),\n",
    "        #GaussianProcessClassifier(1.0 * RBF(1.0)),\n",
    "        (DecisionTreeClassifier(max_depth=5), \"DecisionTreeClassifier\", \"max_depth=5\"),\n",
    "        (RandomForestClassifier(max_depth=5, n_estimators=10, max_features=1), \"RandomForestClassifier\", \"max_depth=5, n_estimators=10, max_features=1\"),\n",
    "        #(MLPClassifier(), \"MLPClassifier\", \"default\"),\n",
    "        (AdaBoostClassifier(), \"AdaBoostClassifier\", \"default\"),\n",
    "        (GaussianNB(), \"GaussianNB\", \"default\"),\n",
    "        #QuadraticDiscriminantAnalysis()\n",
    "    ]\n",
    "\n",
    "\n",
    "classifiers = create_classifiers()"
   ]
  },
  {
   "cell_type": "code",
   "execution_count": 4,
   "metadata": {},
   "outputs": [
    {
     "name": "stdout",
     "output_type": "stream",
     "text": [
      "pamap-easy\tKNeighborsClassifier\t58.22\tPetr H.\tORIGFEATS, k=3\n",
      "pamap-easy\tDecisionTreeClassifier\t77.63\tPetr H.\tORIGFEATS, max_depth=5\n",
      "pamap-easy\tAdaBoostClassifier\t70.32\tPetr H.\tORIGFEATS, default\n",
      "pamap-easy\tGaussianNB\t29.45\tPetr H.\tORIGFEATS, default\n"
     ]
    }
   ],
   "source": [
    "def get_X(df):\n",
    "    return pd.get_dummies(df[df.columns[:-1]], dummy_na=True)\n",
    "def get_Y(df):\n",
    "    dfc = df[df.columns[-1]]\n",
    "    return dfc.cat.codes if dfc.dtype.name == \"category\" else dfc\n",
    "\n",
    "def run_classifiers(df_train, df_test, dtset_args):\n",
    "    for cls in create_classifiers():\n",
    "        model, cls_name, cls_args = cls\n",
    "        \n",
    "        # Fit and score model with given data\n",
    "        model = model.fit(get_X(df_train), get_Y(df_train))\n",
    "        score = model.score(get_X(df_test), get_Y(df_test))\n",
    "        \n",
    "        # Produce report string (I'd much rather use f strings but need to support older python)\n",
    "        dtset_name, dtset_comm = dtset_args\n",
    "        print(dtset_name + \"\\t\" + cls_name  + \"\\t\" + \"{:.2f}\".format(score*100) + \"\\t\" + \"Petr H.\" + \"\\t\" + \", \".join([dtset_comm, cls_args]) )\n",
    "\n",
    "run_classifiers(df_train, df_test, (\"pamap-easy\", \"ORIGFEATS\"))"
   ]
  },
  {
   "cell_type": "code",
   "execution_count": 11,
   "metadata": {},
   "outputs": [],
   "source": [
    "def run_def_datasets(dtsets):\n",
    "    datasets = [ (dtset, \"ORIGFEATS, ONEHOT\") for dtset in dtsets ]\n",
    "    \n",
    "    for dtst in datasets:\n",
    "        dtset_name, _ = dtst\n",
    "        df_train, df_test = load_dataset(dtset_name)\n",
    "        run_classifiers(df_train, df_test, dtst)"
   ]
  },
  {
   "cell_type": "code",
   "execution_count": 13,
   "metadata": {},
   "outputs": [
    {
     "name": "stdout",
     "output_type": "stream",
     "text": [
      "formspring-myspace-data-for-cyberbullying\tKNeighborsClassifier\t90.62\tPetr H.\tORIGFEATS, k=3\n",
      "formspring-myspace-data-for-cyberbullying\tDecisionTreeClassifier\t93.92\tPetr H.\tORIGFEATS, max_depth=5\n",
      "formspring-myspace-data-for-cyberbullying\tAdaBoostClassifier\t94.95\tPetr H.\tORIGFEATS, default\n",
      "formspring-myspace-data-for-cyberbullying\tGaussianNB\t81.46\tPetr H.\tORIGFEATS, default\n",
      "it-cybertrolls-text-features\tKNeighborsClassifier\t78.84\tPetr H.\tORIGFEATS, k=3\n",
      "it-cybertrolls-text-features\tDecisionTreeClassifier\t81.75\tPetr H.\tORIGFEATS, max_depth=5\n",
      "it-cybertrolls-text-features\tAdaBoostClassifier\t81.78\tPetr H.\tORIGFEATS, default\n",
      "it-cybertrolls-text-features\tGaussianNB\t49.83\tPetr H.\tORIGFEATS, default\n"
     ]
    }
   ],
   "source": [
    "dtsets_slow = [\n",
    "    #\"czech-car-accidents\", \n",
    "    #\"czech-presidental-election-easy\", \n",
    "    #\"czech-presidental-election-hard\", \n",
    "    \"formspring-myspace-data-for-cyberbullying\", # Slow\n",
    "    #\"game-cheaters\", \n",
    "    \"it-cybertrolls-text-features\", # Slow\n",
    "    #\"militarized-interstate-disputes\",\n",
    "    #\"pamap-easy\",\n",
    "    #\"psp2013-2017\",\n",
    "    #\"student-survey-brno\"\n",
    "]\n",
    "\n",
    "run_def_datasets(dtsets_slow)"
   ]
  },
  {
   "cell_type": "code",
   "execution_count": 15,
   "metadata": {},
   "outputs": [
    {
     "name": "stdout",
     "output_type": "stream",
     "text": [
      "czech-presidental-election-easy\tKNeighborsClassifier\t58.77\tPetr H.\tORIGFEATS, k=3\n",
      "czech-presidental-election-easy\tDecisionTreeClassifier\t78.95\tPetr H.\tORIGFEATS, max_depth=5\n",
      "czech-presidental-election-easy\tRandomForestClassifier\t68.42\tPetr H.\tORIGFEATS, max_depth=5, n_estimators=10, max_features=1\n",
      "czech-presidental-election-easy\tAdaBoostClassifier\t71.93\tPetr H.\tORIGFEATS, default\n",
      "czech-presidental-election-easy\tGaussianNB\t17.54\tPetr H.\tORIGFEATS, default\n",
      "czech-presidental-election-hard\tKNeighborsClassifier\t57.02\tPetr H.\tORIGFEATS, k=3\n",
      "czech-presidental-election-hard\tDecisionTreeClassifier\t69.30\tPetr H.\tORIGFEATS, max_depth=5\n",
      "czech-presidental-election-hard\tRandomForestClassifier\t68.42\tPetr H.\tORIGFEATS, max_depth=5, n_estimators=10, max_features=1\n",
      "czech-presidental-election-hard\tAdaBoostClassifier\t68.42\tPetr H.\tORIGFEATS, default\n",
      "czech-presidental-election-hard\tGaussianNB\t17.54\tPetr H.\tORIGFEATS, default\n",
      "game-cheaters\tKNeighborsClassifier\t56.85\tPetr H.\tORIGFEATS, k=3\n",
      "game-cheaters\tDecisionTreeClassifier\t65.48\tPetr H.\tORIGFEATS, max_depth=5\n",
      "game-cheaters\tRandomForestClassifier\t68.53\tPetr H.\tORIGFEATS, max_depth=5, n_estimators=10, max_features=1\n",
      "game-cheaters\tAdaBoostClassifier\t72.59\tPetr H.\tORIGFEATS, default\n",
      "game-cheaters\tGaussianNB\t57.87\tPetr H.\tORIGFEATS, default\n",
      "militarized-interstate-disputes\tKNeighborsClassifier\t58.90\tPetr H.\tORIGFEATS, k=3\n",
      "militarized-interstate-disputes\tDecisionTreeClassifier\t77.85\tPetr H.\tORIGFEATS, max_depth=5\n",
      "militarized-interstate-disputes\tRandomForestClassifier\t66.67\tPetr H.\tORIGFEATS, max_depth=5, n_estimators=10, max_features=1\n",
      "militarized-interstate-disputes\tAdaBoostClassifier\t69.41\tPetr H.\tORIGFEATS, default\n",
      "militarized-interstate-disputes\tGaussianNB\t26.03\tPetr H.\tORIGFEATS, default\n",
      "pamap-easy\tKNeighborsClassifier\t97.65\tPetr H.\tORIGFEATS, k=3\n",
      "pamap-easy\tDecisionTreeClassifier\t93.05\tPetr H.\tORIGFEATS, max_depth=5\n",
      "pamap-easy\tRandomForestClassifier\t94.25\tPetr H.\tORIGFEATS, max_depth=5, n_estimators=10, max_features=1\n",
      "pamap-easy\tAdaBoostClassifier\t55.73\tPetr H.\tORIGFEATS, default\n",
      "pamap-easy\tGaussianNB\t93.40\tPetr H.\tORIGFEATS, default\n",
      "psp2013-2017\tKNeighborsClassifier\t83.75\tPetr H.\tORIGFEATS, k=3\n",
      "psp2013-2017\tDecisionTreeClassifier\t87.00\tPetr H.\tORIGFEATS, max_depth=5\n",
      "psp2013-2017\tRandomForestClassifier\t81.50\tPetr H.\tORIGFEATS, max_depth=5, n_estimators=10, max_features=1\n",
      "psp2013-2017\tAdaBoostClassifier\t86.08\tPetr H.\tORIGFEATS, default\n",
      "psp2013-2017\tGaussianNB\t79.08\tPetr H.\tORIGFEATS, default\n",
      "student-survey-brno\tKNeighborsClassifier\t31.25\tPetr H.\tORIGFEATS, k=3\n",
      "student-survey-brno\tDecisionTreeClassifier\t53.57\tPetr H.\tORIGFEATS, max_depth=5\n",
      "student-survey-brno\tRandomForestClassifier\t39.29\tPetr H.\tORIGFEATS, max_depth=5, n_estimators=10, max_features=1\n",
      "student-survey-brno\tAdaBoostClassifier\t47.92\tPetr H.\tORIGFEATS, default\n",
      "student-survey-brno\tGaussianNB\t41.67\tPetr H.\tORIGFEATS, default\n"
     ]
    }
   ],
   "source": [
    "dtsets_quick = [\n",
    "    #\"czech-car-accidents\", \n",
    "    \"czech-presidental-election-easy\", \n",
    "     \"czech-presidental-election-hard\", \n",
    "    #\"formspring-myspace-data-for-cyberbullying\", # Slow\n",
    "    \"game-cheaters\", \n",
    "    #\"it-cybertrolls-text-features\", # Slow\n",
    "    \"militarized-interstate-disputes\",\n",
    "    \"pamap-easy\",\n",
    "    \"psp2013-2017\",\n",
    "    \"student-survey-brno\"\n",
    "]\n",
    "\n",
    "run_def_datasets(dtsets_quick)"
   ]
  }
 ],
 "metadata": {
  "kernelspec": {
   "display_name": "Python 3",
   "language": "python",
   "name": "python3"
  },
  "language_info": {
   "codemirror_mode": {
    "name": "ipython",
    "version": 3
   },
   "file_extension": ".py",
   "mimetype": "text/x-python",
   "name": "python",
   "nbconvert_exporter": "python",
   "pygments_lexer": "ipython3",
   "version": "3.7.1"
  }
 },
 "nbformat": 4,
 "nbformat_minor": 2
}
