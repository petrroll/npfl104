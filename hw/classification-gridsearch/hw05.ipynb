{
 "cells": [
  {
   "cell_type": "code",
   "execution_count": 1,
   "metadata": {},
   "outputs": [],
   "source": [
    "import numpy as np\n",
    "import pandas as pd\n",
    "\n",
    "import os\n",
    "import seaborn as sns\n",
    "\n",
    "from sklearn.svm import SVC\n",
    "from sklearn.model_selection import cross_val_score\n",
    "from sklearn.model_selection import GridSearchCV"
   ]
  },
  {
   "cell_type": "code",
   "execution_count": 2,
   "metadata": {},
   "outputs": [],
   "source": [
    "# Loads dataset & processes it:\n",
    "# - fills NA data\n",
    "# - processes categorical data so that categories from both train&test are known\n",
    "def load_dataset(dataset, drop_columns=None):\n",
    "    df_train = pd.read_csv(\"./2019-npfl104-shared/data/\"+dataset+\"/train.txt.gz\", header=None)\n",
    "    df_test = pd.read_csv(\"./2019-npfl104-shared/data/\"+dataset+\"/test.txt.gz\", header=None)\n",
    "\n",
    "    train_size = len(df_train)\n",
    "    df_tog = df_train.append(df_test)\n",
    "\n",
    "    # Convert to categorical\n",
    "    for col in df_tog.columns[np.where(df_tog.dtypes == 'object')]:\n",
    "        df_tog[col] = pd.Categorical(df_tog[col])\n",
    "\n",
    "    # Drop too unique columns e.g. ids\n",
    "    for col in df_tog.columns:\n",
    "        idlike_col = []\n",
    "        if df_tog[col].nunique() > 0.6 * len(df_tog):\n",
    "            idlike_col.append(col)\n",
    "    df_tog = df_tog.drop(idlike_col, axis=1)\n",
    "        \n",
    "    # Explicitely drop specified columns\n",
    "    if drop_columns:\n",
    "        df_tog = df_tog.drop(drop_columns, axis=1)\n",
    "\n",
    "    df_train, df_test = df_tog[:train_size], df_tog[train_size:]\n",
    "    \n",
    "    df_train = df_train.fillna(df_train.mode().iloc[0])\n",
    "    df_test = df_test.fillna(df_test.mode().iloc[0])\n",
    "    \n",
    "    return df_train, df_test\n",
    "\n",
    "# Used to split dataframe to features & target (last column)\n",
    "def get_X(df):\n",
    "    return pd.get_dummies(df[df.columns[:-1]], dummy_na=True)\n",
    "def get_Y(df):\n",
    "    dfc = df[df.columns[-1]]\n",
    "    return dfc.cat.codes if dfc.dtype.name == \"category\" else dfc\n",
    "\n",
    "\n",
    "dftr, dfte = load_dataset(\"pamap-easy\")\n"
   ]
  },
  {
   "cell_type": "code",
   "execution_count": 3,
   "metadata": {},
   "outputs": [],
   "source": [
    "classifiers = [\n",
    "    (SVC(kernel=\"linear\", C=1, gamma='scale'), \"SVC\", \"l\"),\n",
    "    (SVC(kernel=\"poly\", C=1, gamma='scale'), \"SVC\", \"p\"),\n",
    "    (SVC(kernel=\"rbf\", C=1, gamma='scale'), \"SVC\", \"p\"),\n",
    "]"
   ]
  },
  {
   "cell_type": "code",
   "execution_count": 4,
   "metadata": {},
   "outputs": [
    {
     "name": "stdout",
     "output_type": "stream",
     "text": [
      "[0.93932695 0.94103194 0.94810625 0.94609894 0.93868505]\n",
      "[0.80373373 0.79041769 0.78873586 0.79891706 0.80004925]\n",
      "[0.69638909 0.68304668 0.6957698  0.69628353 0.69884265]\n"
     ]
    }
   ],
   "source": [
    "for cls in classifiers:\n",
    "    model, cls_name, cls_args = cls\n",
    "        \n",
    "    score = cross_val_score(model, get_X(dftr), get_Y(dftr), cv=5)  \n",
    "    print(score)"
   ]
  },
  {
   "cell_type": "code",
   "execution_count": 20,
   "metadata": {},
   "outputs": [],
   "source": [
    "parameters = {\n",
    "    'kernel':['rbf'], \n",
    "    'C':[0.1, 1, 10, 100, 1000, 10000], \n",
    "    'gamma': [0.1, 0.01, 0.001, 0.0001, 0.00001, 0.000001]\n",
    "}"
   ]
  },
  {
   "cell_type": "code",
   "execution_count": 21,
   "metadata": {},
   "outputs": [],
   "source": [
    "model = SVC(gamma='scale')\n",
    "gs = GridSearchCV(model, parameters, cv=3, n_jobs=-2, return_train_score=True)\n",
    "\n",
    "res = gs.fit(get_X(dftr), get_Y(dftr))"
   ]
  },
  {
   "cell_type": "code",
   "execution_count": 22,
   "metadata": {},
   "outputs": [
    {
     "data": {
      "text/plain": [
       "{'mean_fit_time': array([ 8.1831948 ,  7.58570321, 10.45382126, 17.07232118, 29.05416083,\n",
       "        36.39228018,  5.73428305,  3.46336325,  6.67158588, 10.9614354 ,\n",
       "        15.38433266, 22.37692491,  5.20551348,  2.29468012,  3.11168631,\n",
       "         6.46348151, 10.53065093, 14.79397647, 11.74919033,  2.69229349,\n",
       "         3.00405383,  5.03583519,  7.33620485, 11.00540471, 19.10666664,\n",
       "        13.75279824,  4.45158744,  5.29679751,  7.11788615,  9.323934  ,\n",
       "        40.18448432, 25.3921903 , 13.57369184,  5.42598979,  4.84777133,\n",
       "         5.66169341]),\n",
       " 'std_fit_time': array([0.24864752, 0.63336659, 0.31564829, 0.73190464, 0.45059132,\n",
       "        2.13451585, 0.47302772, 0.9562492 , 0.46197722, 1.00044659,\n",
       "        0.93612854, 1.40191652, 0.21193905, 0.94270383, 0.69532126,\n",
       "        0.428814  , 0.46302973, 1.15910051, 1.36555307, 0.92711909,\n",
       "        0.97997493, 0.05111538, 0.39349886, 0.15744236, 2.69314129,\n",
       "        2.82915229, 1.13464157, 0.34320194, 0.48175084, 0.92093878,\n",
       "        5.97717535, 3.88429841, 1.46588666, 0.49785413, 0.54906689,\n",
       "        0.04624322]),\n",
       " 'mean_score_time': array([ 3.74964166,  6.52624122,  7.55388029,  9.87268273,  9.82253885,\n",
       "        10.71038802,  3.59896286,  5.18607704,  6.51406018, 10.44101532,\n",
       "         7.95530844,  7.25810726,  1.52788726,  1.79510887,  3.3910567 ,\n",
       "         6.27754768,  7.87702489,  7.87611564,  1.26606321,  1.47781356,\n",
       "         2.46001919,  4.87622277,  6.79495509,  8.29267049,  0.64127199,\n",
       "         0.53254263,  1.17734241,  1.78396344,  5.12815944,  8.78097502,\n",
       "         0.48981675,  0.66005643,  0.77334785,  1.15953779,  2.39153894,\n",
       "         4.18046745]),\n",
       " 'std_score_time': array([0.63304902, 0.73811013, 0.02081776, 0.57501058, 1.77040269,\n",
       "        0.85232428, 0.45816142, 0.58029124, 0.27491453, 1.1685345 ,\n",
       "        0.49442709, 0.89323163, 0.53641458, 0.7019215 , 0.73166859,\n",
       "        0.31916291, 1.01714126, 0.84259366, 0.82213613, 0.448669  ,\n",
       "        0.76258949, 0.1883438 , 0.22087497, 0.27438173, 0.12644288,\n",
       "        0.02150384, 0.61570192, 0.17316399, 0.83343614, 1.45989852,\n",
       "        0.01940554, 0.35351095, 0.47604155, 0.3765263 , 1.03036531,\n",
       "        0.39246764]),\n",
       " 'param_C': masked_array(data=[0.1, 0.1, 0.1, 0.1, 0.1, 0.1, 1, 1, 1, 1, 1, 1, 10, 10,\n",
       "                    10, 10, 10, 10, 100, 100, 100, 100, 100, 100, 1000,\n",
       "                    1000, 1000, 1000, 1000, 1000, 10000, 10000, 10000,\n",
       "                    10000, 10000, 10000],\n",
       "              mask=[False, False, False, False, False, False, False, False,\n",
       "                    False, False, False, False, False, False, False, False,\n",
       "                    False, False, False, False, False, False, False, False,\n",
       "                    False, False, False, False, False, False, False, False,\n",
       "                    False, False, False, False],\n",
       "        fill_value='?',\n",
       "             dtype=object),\n",
       " 'param_gamma': masked_array(data=[0.1, 0.01, 0.001, 0.0001, 1e-05, 1e-06, 0.1, 0.01,\n",
       "                    0.001, 0.0001, 1e-05, 1e-06, 0.1, 0.01, 0.001, 0.0001,\n",
       "                    1e-05, 1e-06, 0.1, 0.01, 0.001, 0.0001, 1e-05, 1e-06,\n",
       "                    0.1, 0.01, 0.001, 0.0001, 1e-05, 1e-06, 0.1, 0.01,\n",
       "                    0.001, 0.0001, 1e-05, 1e-06],\n",
       "              mask=[False, False, False, False, False, False, False, False,\n",
       "                    False, False, False, False, False, False, False, False,\n",
       "                    False, False, False, False, False, False, False, False,\n",
       "                    False, False, False, False, False, False, False, False,\n",
       "                    False, False, False, False],\n",
       "        fill_value='?',\n",
       "             dtype=object),\n",
       " 'param_kernel': masked_array(data=['rbf', 'rbf', 'rbf', 'rbf', 'rbf', 'rbf', 'rbf', 'rbf',\n",
       "                    'rbf', 'rbf', 'rbf', 'rbf', 'rbf', 'rbf', 'rbf', 'rbf',\n",
       "                    'rbf', 'rbf', 'rbf', 'rbf', 'rbf', 'rbf', 'rbf', 'rbf',\n",
       "                    'rbf', 'rbf', 'rbf', 'rbf', 'rbf', 'rbf', 'rbf', 'rbf',\n",
       "                    'rbf', 'rbf', 'rbf', 'rbf'],\n",
       "              mask=[False, False, False, False, False, False, False, False,\n",
       "                    False, False, False, False, False, False, False, False,\n",
       "                    False, False, False, False, False, False, False, False,\n",
       "                    False, False, False, False, False, False, False, False,\n",
       "                    False, False, False, False],\n",
       "        fill_value='?',\n",
       "             dtype=object),\n",
       " 'params': [{'C': 0.1, 'gamma': 0.1, 'kernel': 'rbf'},\n",
       "  {'C': 0.1, 'gamma': 0.01, 'kernel': 'rbf'},\n",
       "  {'C': 0.1, 'gamma': 0.001, 'kernel': 'rbf'},\n",
       "  {'C': 0.1, 'gamma': 0.0001, 'kernel': 'rbf'},\n",
       "  {'C': 0.1, 'gamma': 1e-05, 'kernel': 'rbf'},\n",
       "  {'C': 0.1, 'gamma': 1e-06, 'kernel': 'rbf'},\n",
       "  {'C': 1, 'gamma': 0.1, 'kernel': 'rbf'},\n",
       "  {'C': 1, 'gamma': 0.01, 'kernel': 'rbf'},\n",
       "  {'C': 1, 'gamma': 0.001, 'kernel': 'rbf'},\n",
       "  {'C': 1, 'gamma': 0.0001, 'kernel': 'rbf'},\n",
       "  {'C': 1, 'gamma': 1e-05, 'kernel': 'rbf'},\n",
       "  {'C': 1, 'gamma': 1e-06, 'kernel': 'rbf'},\n",
       "  {'C': 10, 'gamma': 0.1, 'kernel': 'rbf'},\n",
       "  {'C': 10, 'gamma': 0.01, 'kernel': 'rbf'},\n",
       "  {'C': 10, 'gamma': 0.001, 'kernel': 'rbf'},\n",
       "  {'C': 10, 'gamma': 0.0001, 'kernel': 'rbf'},\n",
       "  {'C': 10, 'gamma': 1e-05, 'kernel': 'rbf'},\n",
       "  {'C': 10, 'gamma': 1e-06, 'kernel': 'rbf'},\n",
       "  {'C': 100, 'gamma': 0.1, 'kernel': 'rbf'},\n",
       "  {'C': 100, 'gamma': 0.01, 'kernel': 'rbf'},\n",
       "  {'C': 100, 'gamma': 0.001, 'kernel': 'rbf'},\n",
       "  {'C': 100, 'gamma': 0.0001, 'kernel': 'rbf'},\n",
       "  {'C': 100, 'gamma': 1e-05, 'kernel': 'rbf'},\n",
       "  {'C': 100, 'gamma': 1e-06, 'kernel': 'rbf'},\n",
       "  {'C': 1000, 'gamma': 0.1, 'kernel': 'rbf'},\n",
       "  {'C': 1000, 'gamma': 0.01, 'kernel': 'rbf'},\n",
       "  {'C': 1000, 'gamma': 0.001, 'kernel': 'rbf'},\n",
       "  {'C': 1000, 'gamma': 0.0001, 'kernel': 'rbf'},\n",
       "  {'C': 1000, 'gamma': 1e-05, 'kernel': 'rbf'},\n",
       "  {'C': 1000, 'gamma': 1e-06, 'kernel': 'rbf'},\n",
       "  {'C': 10000, 'gamma': 0.1, 'kernel': 'rbf'},\n",
       "  {'C': 10000, 'gamma': 0.01, 'kernel': 'rbf'},\n",
       "  {'C': 10000, 'gamma': 0.001, 'kernel': 'rbf'},\n",
       "  {'C': 10000, 'gamma': 0.0001, 'kernel': 'rbf'},\n",
       "  {'C': 10000, 'gamma': 1e-05, 'kernel': 'rbf'},\n",
       "  {'C': 10000, 'gamma': 1e-06, 'kernel': 'rbf'}],\n",
       " 'split0_test_score': array([0.82669617, 0.76961652, 0.64306785, 0.51297935, 0.27625369,\n",
       "        0.10929204, 0.92920354, 0.87271386, 0.76769912, 0.64970501,\n",
       "        0.50648968, 0.27625369, 0.96165192, 0.94277286, 0.86430678,\n",
       "        0.76548673, 0.62625369, 0.50648968, 0.97890855, 0.97109145,\n",
       "        0.94970501, 0.85457227, 0.77271386, 0.62713864, 0.98023599,\n",
       "        0.97949853, 0.97448378, 0.94292035, 0.84041298, 0.74572271,\n",
       "        0.979941  , 0.9800885 , 0.97876106, 0.97182891, 0.93761062,\n",
       "        0.85088496]),\n",
       " 'split1_test_score': array([0.82900561, 0.76158159, 0.65196223, 0.4791974 , 0.27190912,\n",
       "        0.10917675, 0.92446149, 0.85718501, 0.76305695, 0.65284745,\n",
       "        0.47978755, 0.27190912, 0.95544408, 0.93582178, 0.86766008,\n",
       "        0.75936855, 0.63529065, 0.47978755, 0.97491886, 0.96650929,\n",
       "        0.93788728, 0.84730009, 0.76423724, 0.63838891, 0.97654175,\n",
       "        0.97580407, 0.97137799, 0.93818235, 0.84021835, 0.74136914,\n",
       "        0.97683683, 0.97565654, 0.97506639, 0.96680437, 0.93419888,\n",
       "        0.84892299]),\n",
       " 'split2_test_score': array([0.8341946 , 0.77351248, 0.65554407, 0.5141001 , 0.2765392 ,\n",
       "        0.10925735, 0.92499631, 0.87125351, 0.7683449 , 0.65495349,\n",
       "        0.51291894, 0.2765392 , 0.9610217 , 0.93887494, 0.87435405,\n",
       "        0.76952606, 0.63310202, 0.51291894, 0.97652444, 0.96633693,\n",
       "        0.94197549, 0.85427432, 0.77557951, 0.60401595, 0.97726266,\n",
       "        0.97593386, 0.97061863, 0.94153256, 0.84438211, 0.7503322 ,\n",
       "        0.97755795, 0.97726266, 0.97563856, 0.96796102, 0.93828436,\n",
       "        0.85575078]),\n",
       " 'mean_test_score': array([0.82996409, 0.7682357 , 0.65018937, 0.5020904 , 0.2749004 ,\n",
       "        0.10924204, 0.92622104, 0.86705032, 0.76636663, 0.65250111,\n",
       "        0.49972948, 0.2749004 , 0.95937239, 0.93915695, 0.86877183,\n",
       "        0.76479268, 0.63154788, 0.49972948, 0.97678422, 0.96797993,\n",
       "        0.9431902 , 0.8520486 , 0.77084256, 0.62318627, 0.97801387,\n",
       "        0.97707934, 0.97216074, 0.94087846, 0.84167036, 0.7458069 ,\n",
       "        0.97811224, 0.97766957, 0.97648911, 0.96886528, 0.93669765,\n",
       "        0.85185185]),\n",
       " 'std_test_score': array([3.13525680e-03, 4.96719850e-03, 5.24525041e-03, 1.61960511e-02,\n",
       "        2.11859755e-03, 4.82990552e-05, 2.12091067e-03, 7.00202302e-03,\n",
       "        2.35535879e-03, 2.15655619e-03, 1.43447907e-02, 2.11859755e-03,\n",
       "        2.78992489e-03, 2.84517765e-03, 4.17630031e-03, 4.17529030e-03,\n",
       "        3.84989972e-03, 1.43447907e-02, 1.63934366e-03, 2.20202708e-03,\n",
       "        4.90106558e-03, 3.36027533e-03, 4.81544275e-03, 1.43069542e-02,\n",
       "        1.59910670e-03, 1.71201217e-03, 1.67216097e-03, 1.98903845e-03,\n",
       "        1.91829463e-03, 3.65923564e-03, 1.32662895e-03, 1.83231849e-03,\n",
       "        1.62393328e-03, 2.14881142e-03, 1.78837337e-03, 2.86981140e-03]),\n",
       " 'rank_test_score': array([21, 23, 28, 31, 34, 36, 15, 17, 24, 27, 32, 34, 10, 13, 16, 25, 29,\n",
       "        32,  5,  9, 11, 18, 22, 30,  2,  4,  7, 12, 20, 26,  1,  3,  6,  8,\n",
       "        14, 19]),\n",
       " 'split0_train_score': array([0.82894251, 0.76754483, 0.6472585 , 0.50992547, 0.27577301,\n",
       "        0.10921703, 0.92568814, 0.87085824, 0.76510959, 0.65316213,\n",
       "        0.50291491, 0.27577301, 0.95992916, 0.93838093, 0.8636263 ,\n",
       "        0.76562615, 0.62903107, 0.50291491, 0.97616412, 0.9670873 ,\n",
       "        0.9451701 , 0.85322116, 0.77145598, 0.63065456, 0.97793521,\n",
       "        0.9764593 , 0.96834182, 0.93815955, 0.8385359 , 0.74363516,\n",
       "        0.97778762, 0.97704966, 0.97505719, 0.96775146, 0.93557671,\n",
       "        0.84982658]),\n",
       " 'split1_train_score': array([0.83730539, 0.77237512, 0.66007526, 0.48823139, 0.2752896 ,\n",
       "        0.1092747 , 0.9271748 , 0.86386778, 0.77126835, 0.66014904,\n",
       "        0.48867409, 0.2752896 , 0.96192725, 0.93927544, 0.87478787,\n",
       "        0.76588209, 0.64162916, 0.48867409, 0.97867631, 0.96871541,\n",
       "        0.94252195, 0.85390688, 0.77392459, 0.64406404, 0.98007821,\n",
       "        0.97889766, 0.97439681, 0.94576846, 0.84431491, 0.74979709,\n",
       "        0.98022578, 0.97963551, 0.97815982, 0.96937947, 0.93794732,\n",
       "        0.85228363]),\n",
       " 'split2_train_score': array([0.83102227, 0.76486207, 0.64891577, 0.51349757, 0.27297537,\n",
       "        0.1092344 , 0.92793922, 0.87003983, 0.76331317, 0.64699808,\n",
       "        0.51202242, 0.27297537, 0.96422776, 0.93959286, 0.87151497,\n",
       "        0.76287063, 0.62914884, 0.51202242, 0.97920047, 0.96975955,\n",
       "        0.94431332, 0.85108423, 0.7677386 , 0.60215371, 0.97971677,\n",
       "        0.97809411, 0.9738162 , 0.94446083, 0.84112701, 0.7441363 ,\n",
       "        0.97986429, 0.97920047, 0.97698776, 0.97034961, 0.93789644,\n",
       "        0.85344446]),\n",
       " 'mean_train_score': array([0.83242339, 0.76826067, 0.65208318, 0.50388481, 0.27467932,\n",
       "        0.10924204, 0.92693405, 0.86825528, 0.7665637 , 0.65343642,\n",
       "        0.50120381, 0.27467932, 0.96202806, 0.93908308, 0.86997638,\n",
       "        0.76479296, 0.63326969, 0.50120381, 0.97801363, 0.96852075,\n",
       "        0.94400179, 0.85273743, 0.77103973, 0.62562411, 0.9792434 ,\n",
       "        0.97781703, 0.97218494, 0.94279628, 0.84132594, 0.74585618,\n",
       "        0.97929256, 0.97862855, 0.97673492, 0.96916018, 0.93714016,\n",
       "        0.85185156]),\n",
       " 'std_train_score': array([3.55497703e-03, 3.10867487e-03, 5.69161150e-03, 1.11642918e-02,\n",
       "        1.22093638e-03, 2.41550428e-05, 9.34634009e-04, 3.12037296e-03,\n",
       "        3.40656920e-03, 5.37235999e-03, 9.60839949e-03, 1.22093638e-03,\n",
       "        1.75634550e-03, 5.13124430e-04, 4.68477000e-03, 1.36330155e-03,\n",
       "        5.91123332e-03, 9.60839949e-03, 1.32519439e-03, 1.09959123e-03,\n",
       "        1.10331608e-03, 1.20203852e-03, 2.54251353e-03, 1.74756625e-02,\n",
       "        9.36724542e-04, 1.01455486e-03, 2.72781675e-03, 3.32184345e-03,\n",
       "        2.36346082e-03, 2.79414373e-03, 1.07434081e-03, 1.13047683e-03,\n",
       "        1.27919651e-03, 1.07196552e-03, 1.10571938e-03, 1.50826112e-03])}"
      ]
     },
     "execution_count": 22,
     "metadata": {},
     "output_type": "execute_result"
    }
   ],
   "source": [
    "res\n",
    "res.cv_results_"
   ]
  },
  {
   "cell_type": "code",
   "execution_count": 33,
   "metadata": {},
   "outputs": [
    {
     "data": {
      "text/plain": [
       "array([[0.82996409, 0.7682357 , 0.65018937, 0.5020904 , 0.2749004 ,\n",
       "        0.10924204],\n",
       "       [0.92622104, 0.86705032, 0.76636663, 0.65250111, 0.49972948,\n",
       "        0.2749004 ],\n",
       "       [0.95937239, 0.93915695, 0.86877183, 0.76479268, 0.63154788,\n",
       "        0.49972948],\n",
       "       [0.97678422, 0.96797993, 0.9431902 , 0.8520486 , 0.77084256,\n",
       "        0.62318627],\n",
       "       [0.97801387, 0.97707934, 0.97216074, 0.94087846, 0.84167036,\n",
       "        0.7458069 ],\n",
       "       [0.97811224, 0.97766957, 0.97648911, 0.96886528, 0.93669765,\n",
       "        0.85185185]])"
      ]
     },
     "execution_count": 33,
     "metadata": {},
     "output_type": "execute_result"
    }
   ],
   "source": [
    "# https://qiita.com/bmj0114/items/8009f282c99b77780563\n",
    "heat_score = res.cv_results_['mean_test_score'].reshape(len(parameters['gamma']),len(parameters['C']))\n",
    "heat_score"
   ]
  },
  {
   "cell_type": "code",
   "execution_count": 55,
   "metadata": {},
   "outputs": [
    {
     "data": {
      "text/plain": [
       "<matplotlib.axes._subplots.AxesSubplot at 0x2e9759e59e8>"
      ]
     },
     "execution_count": 55,
     "metadata": {},
     "output_type": "execute_result"
    },
    {
     "data": {
      "image/png": "[encoded data removed]",
      "text/plain": [
       "<Figure size 432x288 with 2 Axes>"
      ]
     },
     "metadata": {},
     "output_type": "display_data"
    }
   ],
   "source": [
    "fig = sns.heatmap(heat_score, annot=True, fmt=\".4f\", center = 0.8, xticklabels=parameters['gamma'], yticklabels=parameters['C'])\n",
    "fig.set_xlabel(\"Gamma\")\n",
    "fig.set_\n",
    "fig.figure.savefig(\"heatmap.png\")\n",
    "fig"
   ]
  },
  {
   "cell_type": "code",
   "execution_count": 35,
   "metadata": {},
   "outputs": [
    {
     "data": {
      "text/plain": [
       "0.9760956175298805"
      ]
     },
     "execution_count": 35,
     "metadata": {},
     "output_type": "execute_result"
    }
   ],
   "source": [
    "res.score(get_X(dfte), get_Y(dfte))\n"
   ]
  },
  {
   "cell_type": "code",
   "execution_count": 36,
   "metadata": {},
   "outputs": [
    {
     "data": {
      "text/plain": [
       "{'C': 10000, 'gamma': 0.1, 'kernel': 'rbf'}"
      ]
     },
     "execution_count": 36,
     "metadata": {},
     "output_type": "execute_result"
    }
   ],
   "source": [
    "res.best_params_ # res.cv_results_['params'][np.argmax(res.cv_results_['mean_test_score'])] alternatively "
   ]
  }
 ],
 "metadata": {
  "kernelspec": {
   "display_name": "Python 3",
   "language": "python",
   "name": "python3"
  },
  "language_info": {
   "codemirror_mode": {
    "name": "ipython",
    "version": 3
   },
   "file_extension": ".py",
   "mimetype": "text/x-python",
   "name": "python",
   "nbconvert_exporter": "python",
   "pygments_lexer": "ipython3",
   "version": "3.6.3"
  }
 },
 "nbformat": 4,
 "nbformat_minor": 2
}
